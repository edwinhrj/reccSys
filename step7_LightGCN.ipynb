{
  "cells": [
    {
      "cell_type": "markdown",
      "metadata": {
        "id": "iHcRKrNEbGNk"
      },
      "source": [
        "## Import packages and set-up"
      ]
    },
    {
      "cell_type": "code",
      "execution_count": 24,
      "metadata": {
        "id": "vw3DnPH5Ej4z"
      },
      "outputs": [],
      "source": [
        "from torch.utils.data import DataLoader, Dataset\n",
        "from IPython import embed\n",
        "from sklearn.metrics import roc_auc_score\n",
        "import pandas as pd\n",
        "import numpy as np\n",
        "import csv\n",
        "import os\n",
        "import random\n",
        "import time\n",
        "import scipy.sparse as sp\n",
        "from tqdm import tqdm, trange\n",
        "import torch\n",
        "import torch.nn as nn\n",
        "import matplotlib.pyplot as plt"
      ]
    },
    {
      "cell_type": "code",
      "source": [
        "from google.colab import drive\n",
        "drive.mount('/content/drive')"
      ],
      "metadata": {
        "colab": {
          "base_uri": "https://localhost:8080/"
        },
        "id": "-dKpQKZVsadk",
        "outputId": "51c36545-c341-43ff-e9dd-15e49cf3e1f1"
      },
      "execution_count": 2,
      "outputs": [
        {
          "output_type": "stream",
          "name": "stdout",
          "text": [
            "Mounted at /content/drive\n"
          ]
        }
      ]
    },
    {
      "cell_type": "code",
      "source": [
        "device_gpu = torch.device(\"cuda\" if torch.cuda.is_available() else \"cpu\")"
      ],
      "metadata": {
        "id": "DwnWsqyhscIz"
      },
      "execution_count": 3,
      "outputs": []
    },
    {
      "cell_type": "code",
      "source": [
        "file_path = '/content/drive/My Drive/BT4222 Project/EDA/datasets to submit/bt4222_dataset_21.csv'\n",
        "data = pd.read_csv(file_path)\n",
        "data.shape"
      ],
      "metadata": {
        "colab": {
          "base_uri": "https://localhost:8080/"
        },
        "id": "z2Srsc5PscrR",
        "outputId": "6dcb70fb-5e9e-440a-89ee-5ed5c3db7433"
      },
      "execution_count": 5,
      "outputs": [
        {
          "output_type": "execute_result",
          "data": {
            "text/plain": [
              "(126144, 31)"
            ]
          },
          "metadata": {},
          "execution_count": 5
        }
      ]
    },
    {
      "cell_type": "code",
      "source": [
        "df = data.copy()\n",
        "columns_name=['author.steamid','app_id','pred_rating','timestamp_updated']\n",
        "df = df[columns_name]"
      ],
      "metadata": {
        "id": "TX36NiaNvaAw"
      },
      "execution_count": 6,
      "outputs": []
    },
    {
      "cell_type": "markdown",
      "source": [
        "## Train-test split"
      ],
      "metadata": {
        "id": "-QOhmNn9lkK-"
      }
    },
    {
      "cell_type": "code",
      "source": [
        "def chronological_split(data, train_ratio=0.8):\n",
        "    train_data = []\n",
        "    test_data = []\n",
        "    for user_id, group in data.groupby('author.steamid'):\n",
        "        group = group.sort_values('timestamp_updated')\n",
        "        n = len(group)\n",
        "        split_point = int(n * train_ratio)\n",
        "        if split_point > 0 and n - split_point > 0:\n",
        "            train_data.append(group.iloc[:split_point])\n",
        "            test_data.append(group.iloc[split_point:])\n",
        "    train_data = pd.concat(train_data, ignore_index=True)\n",
        "    test_data = pd.concat(test_data, ignore_index=True)\n",
        "    return train_data, test_data\n",
        "\n",
        "train, test = chronological_split(df, train_ratio=0.8)\n",
        "\n",
        "print(\"Training data shape:\", train.shape)\n",
        "print(\"Testing data shape:\", test.shape)\n"
      ],
      "metadata": {
        "id": "jGddb3h_sIsD",
        "colab": {
          "base_uri": "https://localhost:8080/"
        },
        "outputId": "d688a74e-1c47-4673-cc9c-4db7297b7a4f"
      },
      "execution_count": 7,
      "outputs": [
        {
          "output_type": "stream",
          "name": "stdout",
          "text": [
            "Training data shape: (98973, 4)\n",
            "Testing data shape: (27171, 4)\n"
          ]
        }
      ]
    },
    {
      "cell_type": "code",
      "source": [
        "display(df)"
      ],
      "metadata": {
        "colab": {
          "base_uri": "https://localhost:8080/",
          "height": 423
        },
        "id": "D5ECeGOowwhq",
        "outputId": "6b65e2c8-993c-4ae3-a1d0-6d136eef2d4a"
      },
      "execution_count": 8,
      "outputs": [
        {
          "output_type": "display_data",
          "data": {
            "text/plain": [
              "           author.steamid  app_id  pred_rating  timestamp_updated\n",
              "0       76561197967992446    4000            4         1290229222\n",
              "1       76561197967992446   48700            4         1290283941\n",
              "2       76561197968566119   48700            4         1290984804\n",
              "3       76561197968566119   35140            2         1291337732\n",
              "4       76561197968566119     240            4         1291338488\n",
              "...                   ...     ...          ...                ...\n",
              "126139  76561198112669681  418370            4         1611417066\n",
              "126140  76561198161141911  945360            4         1611420812\n",
              "126141  76561198161141911  359550            4         1611421580\n",
              "126142  76561198035768259  271590            4         1611421837\n",
              "126143  76561198018775954  359550            4         1611423009\n",
              "\n",
              "[126144 rows x 4 columns]"
            ],
            "text/html": [
              "\n",
              "  <div id=\"df-c43b38fb-97cc-403c-a48c-e228be5cc3e3\" class=\"colab-df-container\">\n",
              "    <div>\n",
              "<style scoped>\n",
              "    .dataframe tbody tr th:only-of-type {\n",
              "        vertical-align: middle;\n",
              "    }\n",
              "\n",
              "    .dataframe tbody tr th {\n",
              "        vertical-align: top;\n",
              "    }\n",
              "\n",
              "    .dataframe thead th {\n",
              "        text-align: right;\n",
              "    }\n",
              "</style>\n",
              "<table border=\"1\" class=\"dataframe\">\n",
              "  <thead>\n",
              "    <tr style=\"text-align: right;\">\n",
              "      <th></th>\n",
              "      <th>author.steamid</th>\n",
              "      <th>app_id</th>\n",
              "      <th>pred_rating</th>\n",
              "      <th>timestamp_updated</th>\n",
              "    </tr>\n",
              "  </thead>\n",
              "  <tbody>\n",
              "    <tr>\n",
              "      <th>0</th>\n",
              "      <td>76561197967992446</td>\n",
              "      <td>4000</td>\n",
              "      <td>4</td>\n",
              "      <td>1290229222</td>\n",
              "    </tr>\n",
              "    <tr>\n",
              "      <th>1</th>\n",
              "      <td>76561197967992446</td>\n",
              "      <td>48700</td>\n",
              "      <td>4</td>\n",
              "      <td>1290283941</td>\n",
              "    </tr>\n",
              "    <tr>\n",
              "      <th>2</th>\n",
              "      <td>76561197968566119</td>\n",
              "      <td>48700</td>\n",
              "      <td>4</td>\n",
              "      <td>1290984804</td>\n",
              "    </tr>\n",
              "    <tr>\n",
              "      <th>3</th>\n",
              "      <td>76561197968566119</td>\n",
              "      <td>35140</td>\n",
              "      <td>2</td>\n",
              "      <td>1291337732</td>\n",
              "    </tr>\n",
              "    <tr>\n",
              "      <th>4</th>\n",
              "      <td>76561197968566119</td>\n",
              "      <td>240</td>\n",
              "      <td>4</td>\n",
              "      <td>1291338488</td>\n",
              "    </tr>\n",
              "    <tr>\n",
              "      <th>...</th>\n",
              "      <td>...</td>\n",
              "      <td>...</td>\n",
              "      <td>...</td>\n",
              "      <td>...</td>\n",
              "    </tr>\n",
              "    <tr>\n",
              "      <th>126139</th>\n",
              "      <td>76561198112669681</td>\n",
              "      <td>418370</td>\n",
              "      <td>4</td>\n",
              "      <td>1611417066</td>\n",
              "    </tr>\n",
              "    <tr>\n",
              "      <th>126140</th>\n",
              "      <td>76561198161141911</td>\n",
              "      <td>945360</td>\n",
              "      <td>4</td>\n",
              "      <td>1611420812</td>\n",
              "    </tr>\n",
              "    <tr>\n",
              "      <th>126141</th>\n",
              "      <td>76561198161141911</td>\n",
              "      <td>359550</td>\n",
              "      <td>4</td>\n",
              "      <td>1611421580</td>\n",
              "    </tr>\n",
              "    <tr>\n",
              "      <th>126142</th>\n",
              "      <td>76561198035768259</td>\n",
              "      <td>271590</td>\n",
              "      <td>4</td>\n",
              "      <td>1611421837</td>\n",
              "    </tr>\n",
              "    <tr>\n",
              "      <th>126143</th>\n",
              "      <td>76561198018775954</td>\n",
              "      <td>359550</td>\n",
              "      <td>4</td>\n",
              "      <td>1611423009</td>\n",
              "    </tr>\n",
              "  </tbody>\n",
              "</table>\n",
              "<p>126144 rows × 4 columns</p>\n",
              "</div>\n",
              "    <div class=\"colab-df-buttons\">\n",
              "\n",
              "  <div class=\"colab-df-container\">\n",
              "    <button class=\"colab-df-convert\" onclick=\"convertToInteractive('df-c43b38fb-97cc-403c-a48c-e228be5cc3e3')\"\n",
              "            title=\"Convert this dataframe to an interactive table.\"\n",
              "            style=\"display:none;\">\n",
              "\n",
              "  <svg xmlns=\"http://www.w3.org/2000/svg\" height=\"24px\" viewBox=\"0 -960 960 960\">\n",
              "    <path d=\"M120-120v-720h720v720H120Zm60-500h600v-160H180v160Zm220 220h160v-160H400v160Zm0 220h160v-160H400v160ZM180-400h160v-160H180v160Zm440 0h160v-160H620v160ZM180-180h160v-160H180v160Zm440 0h160v-160H620v160Z\"/>\n",
              "  </svg>\n",
              "    </button>\n",
              "\n",
              "  <style>\n",
              "    .colab-df-container {\n",
              "      display:flex;\n",
              "      gap: 12px;\n",
              "    }\n",
              "\n",
              "    .colab-df-convert {\n",
              "      background-color: #E8F0FE;\n",
              "      border: none;\n",
              "      border-radius: 50%;\n",
              "      cursor: pointer;\n",
              "      display: none;\n",
              "      fill: #1967D2;\n",
              "      height: 32px;\n",
              "      padding: 0 0 0 0;\n",
              "      width: 32px;\n",
              "    }\n",
              "\n",
              "    .colab-df-convert:hover {\n",
              "      background-color: #E2EBFA;\n",
              "      box-shadow: 0px 1px 2px rgba(60, 64, 67, 0.3), 0px 1px 3px 1px rgba(60, 64, 67, 0.15);\n",
              "      fill: #174EA6;\n",
              "    }\n",
              "\n",
              "    .colab-df-buttons div {\n",
              "      margin-bottom: 4px;\n",
              "    }\n",
              "\n",
              "    [theme=dark] .colab-df-convert {\n",
              "      background-color: #3B4455;\n",
              "      fill: #D2E3FC;\n",
              "    }\n",
              "\n",
              "    [theme=dark] .colab-df-convert:hover {\n",
              "      background-color: #434B5C;\n",
              "      box-shadow: 0px 1px 3px 1px rgba(0, 0, 0, 0.15);\n",
              "      filter: drop-shadow(0px 1px 2px rgba(0, 0, 0, 0.3));\n",
              "      fill: #FFFFFF;\n",
              "    }\n",
              "  </style>\n",
              "\n",
              "    <script>\n",
              "      const buttonEl =\n",
              "        document.querySelector('#df-c43b38fb-97cc-403c-a48c-e228be5cc3e3 button.colab-df-convert');\n",
              "      buttonEl.style.display =\n",
              "        google.colab.kernel.accessAllowed ? 'block' : 'none';\n",
              "\n",
              "      async function convertToInteractive(key) {\n",
              "        const element = document.querySelector('#df-c43b38fb-97cc-403c-a48c-e228be5cc3e3');\n",
              "        const dataTable =\n",
              "          await google.colab.kernel.invokeFunction('convertToInteractive',\n",
              "                                                    [key], {});\n",
              "        if (!dataTable) return;\n",
              "\n",
              "        const docLinkHtml = 'Like what you see? Visit the ' +\n",
              "          '<a target=\"_blank\" href=https://colab.research.google.com/notebooks/data_table.ipynb>data table notebook</a>'\n",
              "          + ' to learn more about interactive tables.';\n",
              "        element.innerHTML = '';\n",
              "        dataTable['output_type'] = 'display_data';\n",
              "        await google.colab.output.renderOutput(dataTable, element);\n",
              "        const docLink = document.createElement('div');\n",
              "        docLink.innerHTML = docLinkHtml;\n",
              "        element.appendChild(docLink);\n",
              "      }\n",
              "    </script>\n",
              "  </div>\n",
              "\n",
              "\n",
              "<div id=\"df-c0905591-ae60-4c18-812b-1d7fa3b6c9cc\">\n",
              "  <button class=\"colab-df-quickchart\" onclick=\"quickchart('df-c0905591-ae60-4c18-812b-1d7fa3b6c9cc')\"\n",
              "            title=\"Suggest charts\"\n",
              "            style=\"display:none;\">\n",
              "\n",
              "<svg xmlns=\"http://www.w3.org/2000/svg\" height=\"24px\"viewBox=\"0 0 24 24\"\n",
              "     width=\"24px\">\n",
              "    <g>\n",
              "        <path d=\"M19 3H5c-1.1 0-2 .9-2 2v14c0 1.1.9 2 2 2h14c1.1 0 2-.9 2-2V5c0-1.1-.9-2-2-2zM9 17H7v-7h2v7zm4 0h-2V7h2v10zm4 0h-2v-4h2v4z\"/>\n",
              "    </g>\n",
              "</svg>\n",
              "  </button>\n",
              "\n",
              "<style>\n",
              "  .colab-df-quickchart {\n",
              "      --bg-color: #E8F0FE;\n",
              "      --fill-color: #1967D2;\n",
              "      --hover-bg-color: #E2EBFA;\n",
              "      --hover-fill-color: #174EA6;\n",
              "      --disabled-fill-color: #AAA;\n",
              "      --disabled-bg-color: #DDD;\n",
              "  }\n",
              "\n",
              "  [theme=dark] .colab-df-quickchart {\n",
              "      --bg-color: #3B4455;\n",
              "      --fill-color: #D2E3FC;\n",
              "      --hover-bg-color: #434B5C;\n",
              "      --hover-fill-color: #FFFFFF;\n",
              "      --disabled-bg-color: #3B4455;\n",
              "      --disabled-fill-color: #666;\n",
              "  }\n",
              "\n",
              "  .colab-df-quickchart {\n",
              "    background-color: var(--bg-color);\n",
              "    border: none;\n",
              "    border-radius: 50%;\n",
              "    cursor: pointer;\n",
              "    display: none;\n",
              "    fill: var(--fill-color);\n",
              "    height: 32px;\n",
              "    padding: 0;\n",
              "    width: 32px;\n",
              "  }\n",
              "\n",
              "  .colab-df-quickchart:hover {\n",
              "    background-color: var(--hover-bg-color);\n",
              "    box-shadow: 0 1px 2px rgba(60, 64, 67, 0.3), 0 1px 3px 1px rgba(60, 64, 67, 0.15);\n",
              "    fill: var(--button-hover-fill-color);\n",
              "  }\n",
              "\n",
              "  .colab-df-quickchart-complete:disabled,\n",
              "  .colab-df-quickchart-complete:disabled:hover {\n",
              "    background-color: var(--disabled-bg-color);\n",
              "    fill: var(--disabled-fill-color);\n",
              "    box-shadow: none;\n",
              "  }\n",
              "\n",
              "  .colab-df-spinner {\n",
              "    border: 2px solid var(--fill-color);\n",
              "    border-color: transparent;\n",
              "    border-bottom-color: var(--fill-color);\n",
              "    animation:\n",
              "      spin 1s steps(1) infinite;\n",
              "  }\n",
              "\n",
              "  @keyframes spin {\n",
              "    0% {\n",
              "      border-color: transparent;\n",
              "      border-bottom-color: var(--fill-color);\n",
              "      border-left-color: var(--fill-color);\n",
              "    }\n",
              "    20% {\n",
              "      border-color: transparent;\n",
              "      border-left-color: var(--fill-color);\n",
              "      border-top-color: var(--fill-color);\n",
              "    }\n",
              "    30% {\n",
              "      border-color: transparent;\n",
              "      border-left-color: var(--fill-color);\n",
              "      border-top-color: var(--fill-color);\n",
              "      border-right-color: var(--fill-color);\n",
              "    }\n",
              "    40% {\n",
              "      border-color: transparent;\n",
              "      border-right-color: var(--fill-color);\n",
              "      border-top-color: var(--fill-color);\n",
              "    }\n",
              "    60% {\n",
              "      border-color: transparent;\n",
              "      border-right-color: var(--fill-color);\n",
              "    }\n",
              "    80% {\n",
              "      border-color: transparent;\n",
              "      border-right-color: var(--fill-color);\n",
              "      border-bottom-color: var(--fill-color);\n",
              "    }\n",
              "    90% {\n",
              "      border-color: transparent;\n",
              "      border-bottom-color: var(--fill-color);\n",
              "    }\n",
              "  }\n",
              "</style>\n",
              "\n",
              "  <script>\n",
              "    async function quickchart(key) {\n",
              "      const quickchartButtonEl =\n",
              "        document.querySelector('#' + key + ' button');\n",
              "      quickchartButtonEl.disabled = true;  // To prevent multiple clicks.\n",
              "      quickchartButtonEl.classList.add('colab-df-spinner');\n",
              "      try {\n",
              "        const charts = await google.colab.kernel.invokeFunction(\n",
              "            'suggestCharts', [key], {});\n",
              "      } catch (error) {\n",
              "        console.error('Error during call to suggestCharts:', error);\n",
              "      }\n",
              "      quickchartButtonEl.classList.remove('colab-df-spinner');\n",
              "      quickchartButtonEl.classList.add('colab-df-quickchart-complete');\n",
              "    }\n",
              "    (() => {\n",
              "      let quickchartButtonEl =\n",
              "        document.querySelector('#df-c0905591-ae60-4c18-812b-1d7fa3b6c9cc button');\n",
              "      quickchartButtonEl.style.display =\n",
              "        google.colab.kernel.accessAllowed ? 'block' : 'none';\n",
              "    })();\n",
              "  </script>\n",
              "</div>\n",
              "\n",
              "  <div id=\"id_003ea5dd-13db-4f84-8d38-71cd4ea33adf\">\n",
              "    <style>\n",
              "      .colab-df-generate {\n",
              "        background-color: #E8F0FE;\n",
              "        border: none;\n",
              "        border-radius: 50%;\n",
              "        cursor: pointer;\n",
              "        display: none;\n",
              "        fill: #1967D2;\n",
              "        height: 32px;\n",
              "        padding: 0 0 0 0;\n",
              "        width: 32px;\n",
              "      }\n",
              "\n",
              "      .colab-df-generate:hover {\n",
              "        background-color: #E2EBFA;\n",
              "        box-shadow: 0px 1px 2px rgba(60, 64, 67, 0.3), 0px 1px 3px 1px rgba(60, 64, 67, 0.15);\n",
              "        fill: #174EA6;\n",
              "      }\n",
              "\n",
              "      [theme=dark] .colab-df-generate {\n",
              "        background-color: #3B4455;\n",
              "        fill: #D2E3FC;\n",
              "      }\n",
              "\n",
              "      [theme=dark] .colab-df-generate:hover {\n",
              "        background-color: #434B5C;\n",
              "        box-shadow: 0px 1px 3px 1px rgba(0, 0, 0, 0.15);\n",
              "        filter: drop-shadow(0px 1px 2px rgba(0, 0, 0, 0.3));\n",
              "        fill: #FFFFFF;\n",
              "      }\n",
              "    </style>\n",
              "    <button class=\"colab-df-generate\" onclick=\"generateWithVariable('df')\"\n",
              "            title=\"Generate code using this dataframe.\"\n",
              "            style=\"display:none;\">\n",
              "\n",
              "  <svg xmlns=\"http://www.w3.org/2000/svg\" height=\"24px\"viewBox=\"0 0 24 24\"\n",
              "       width=\"24px\">\n",
              "    <path d=\"M7,19H8.4L18.45,9,17,7.55,7,17.6ZM5,21V16.75L18.45,3.32a2,2,0,0,1,2.83,0l1.4,1.43a1.91,1.91,0,0,1,.58,1.4,1.91,1.91,0,0,1-.58,1.4L9.25,21ZM18.45,9,17,7.55Zm-12,3A5.31,5.31,0,0,0,4.9,8.1,5.31,5.31,0,0,0,1,6.5,5.31,5.31,0,0,0,4.9,4.9,5.31,5.31,0,0,0,6.5,1,5.31,5.31,0,0,0,8.1,4.9,5.31,5.31,0,0,0,12,6.5,5.46,5.46,0,0,0,6.5,12Z\"/>\n",
              "  </svg>\n",
              "    </button>\n",
              "    <script>\n",
              "      (() => {\n",
              "      const buttonEl =\n",
              "        document.querySelector('#id_003ea5dd-13db-4f84-8d38-71cd4ea33adf button.colab-df-generate');\n",
              "      buttonEl.style.display =\n",
              "        google.colab.kernel.accessAllowed ? 'block' : 'none';\n",
              "\n",
              "      buttonEl.onclick = () => {\n",
              "        google.colab.notebook.generateWithVariable('df');\n",
              "      }\n",
              "      })();\n",
              "    </script>\n",
              "  </div>\n",
              "\n",
              "    </div>\n",
              "  </div>\n"
            ],
            "application/vnd.google.colaboratory.intrinsic+json": {
              "type": "dataframe",
              "variable_name": "df"
            }
          },
          "metadata": {}
        }
      ]
    },
    {
      "cell_type": "code",
      "source": [
        "train = pd.DataFrame(train, columns = df.columns)\n",
        "test = pd.DataFrame(test, columns = df.columns)\n",
        "print(\"Train Size  : \", len(train))\n",
        "print(\"Test Size : \", len (test))"
      ],
      "metadata": {
        "colab": {
          "base_uri": "https://localhost:8080/"
        },
        "id": "7_rpahpcuwuh",
        "outputId": "102e6708-d57d-48f1-f4c5-9428982de62b"
      },
      "execution_count": 9,
      "outputs": [
        {
          "output_type": "stream",
          "name": "stdout",
          "text": [
            "Train Size  :  98973\n",
            "Test Size :  27171\n"
          ]
        }
      ]
    },
    {
      "cell_type": "markdown",
      "source": [
        "## Preparation steps - encoding"
      ],
      "metadata": {
        "id": "2CzVJ6njln0s"
      }
    },
    {
      "cell_type": "code",
      "source": [
        "from sklearn import preprocessing as pp\n",
        "\n",
        "le_user = pp.LabelEncoder()\n",
        "le_item = pp.LabelEncoder()\n",
        "train['user_id_idx'] = le_user.fit_transform(train['author.steamid'].values)\n",
        "train['item_id_idx'] = le_item.fit_transform(train['app_id'].values)\n",
        "train_user_ids = train['author.steamid'].unique()\n",
        "train_item_ids = train['app_id'].unique()\n",
        "\n",
        "print(len(train_user_ids), len(train_item_ids))\n",
        "\n",
        "# Ensure that the test set only contains users and items that also appear in the training set\n",
        "test = test[(test['author.steamid'].isin(train_user_ids)) & (test['app_id'].isin(train_item_ids))]\n",
        "print(len(test))\n",
        "\n",
        "# Transform user IDs and item IDs in the test set using the label encoders fitted on the training set\n",
        "test['user_id_idx'] = le_user.transform(test['author.steamid'].values)\n",
        "test['item_id_idx'] = le_item.transform(test['app_id'].values)\n",
        "# Calculate the number of unique users and items in the training set\n",
        "n_users = train['user_id_idx'].nunique()\n",
        "n_items = train['item_id_idx'].nunique()\n",
        "print(\"Number of Unique Users : \", n_users)\n",
        "print(\"Number of unique Items : \", n_items)"
      ],
      "metadata": {
        "colab": {
          "base_uri": "https://localhost:8080/"
        },
        "id": "6RvUHqVgu2sG",
        "outputId": "dafdeb6c-236a-4c84-add1-129a994be288"
      },
      "execution_count": 10,
      "outputs": [
        {
          "output_type": "stream",
          "name": "stdout",
          "text": [
            "4935 166\n",
            "27171\n",
            "Number of Unique Users :  4935\n",
            "Number of unique Items :  166\n"
          ]
        }
      ]
    },
    {
      "cell_type": "code",
      "source": [
        "# Set model hyperparameters: latent dimension and number of layers\n",
        "latent_dim = 64  # Dimensionality of the latent feature space\n",
        "n_layers = 3  # Number of layers in the neural network\n",
        "\n",
        "import torch\n",
        "\n",
        "# Define a function to convert a DOK matrix to a sparse tensor in PyTorch\n",
        "def convert_to_sparse_tensor(dok_mtrx):\n",
        "    dok_mtrx_coo = dok_mtrx.tocoo().astype(np.float32)  # Convert DOK matrix to COO format and ensure data type\n",
        "    values = dok_mtrx_coo.data  # Extract non-zero values\n",
        "    indices = np.vstack((dok_mtrx_coo.row, dok_mtrx_coo.col))\n",
        "\n",
        "    i = torch.LongTensor(indices)\n",
        "    v = torch.FloatTensor(values)\n",
        "    shape = dok_mtrx_coo.shape\n",
        "\n",
        "    dok_mtrx_sparse_tensor = torch.sparse.FloatTensor(i, v, torch.Size(shape))\n",
        "\n",
        "    return dok_mtrx_sparse_tensor"
      ],
      "metadata": {
        "id": "zyih1R97wCII"
      },
      "execution_count": 11,
      "outputs": []
    },
    {
      "cell_type": "markdown",
      "source": [
        "## Setting metrics"
      ],
      "metadata": {
        "id": "cWZw0yP_nXR4"
      }
    },
    {
      "cell_type": "code",
      "source": [
        "# Function to compute evaluation metrics for a recommendation system model\n",
        "def get_metrics(user_Embed_wts, item_Embed_wts, n_users, n_items, train_data, test_data, K):\n",
        "\n",
        "    # Initialize user and item embeddings using pre-trained weights\n",
        "    user_Embedding = nn.Embedding(user_Embed_wts.size()[0], user_Embed_wts.size()[1], _weight = user_Embed_wts)\n",
        "    item_Embedding = nn.Embedding(item_Embed_wts.size()[0], item_Embed_wts.size()[1], _weight = item_Embed_wts)\n",
        "\n",
        "    # Get unique user IDs in the test set\n",
        "    test_user_ids = torch.LongTensor(test_data['user_id_idx'].unique())\n",
        "\n",
        "    # Compute relevance score matrix based on user and item embeddings\n",
        "    relevance_score = torch.matmul(user_Embed_wts, torch.transpose(item_Embed_wts,0, 1))\n",
        "\n",
        "    # Initialize a sparse matrix R with interactions from the training data\n",
        "    R = sp.dok_matrix((n_users, n_items), dtype = np.float32)\n",
        "    R[train_data['user_id_idx'], train_data['item_id_idx']] = 1.0\n",
        "\n",
        "    # Convert sparse matrix R to a sparse tensor\n",
        "    R_tensor = convert_to_sparse_tensor(R)\n",
        "    R_tensor_dense = R_tensor.to_dense()\n",
        "\n",
        "    # Set non-interacted items in the relevance score matrix to negative infinity\n",
        "    R_tensor_dense = R_tensor_dense*(-np.inf)\n",
        "    R_tensor_dense = torch.nan_to_num(R_tensor_dense, nan=0.0)\n",
        "\n",
        "    # Add the relevance score matrix and the non-interacted items matrix\n",
        "    relevance_score = relevance_score + R_tensor_dense\n",
        "\n",
        "    # Retrieve the top-K relevance scores and their corresponding indices\n",
        "    topk_relevance_score = torch.topk(relevance_score, K).values\n",
        "    topk_relevance_indices = torch.topk(relevance_score, K).indices\n",
        "\n",
        "    # Convert top-K relevance indices to a DataFrame\n",
        "    topk_relevance_indices_df = pd.DataFrame(topk_relevance_indices.numpy(),columns =['top_indx_'+str(x+1) for x in range(K)])\n",
        "    topk_relevance_indices_df['steamid'] = topk_relevance_indices_df.index\n",
        "    topk_relevance_indices_df['top_rlvnt_itm'] = topk_relevance_indices_df[['top_indx_'+str(x+1) for x in range(K)]].values.tolist()\n",
        "    topk_relevance_indices_df = topk_relevance_indices_df[['steamid','top_rlvnt_itm']]\n",
        "\n",
        "    # Group the test set by user ID and retrieve the list of interacted items\n",
        "    test_interacted_items = test_data.groupby('user_id_idx')['item_id_idx'].apply(list).reset_index()\n",
        "\n",
        "    # Merge the interacted items list with the top-K relevance indices DataFrame\n",
        "    metrics_df = pd.merge(test_interacted_items,topk_relevance_indices_df, how= 'left', left_on = 'user_id_idx',right_on = ['steamid'])\n",
        "    metrics_df['intrsctn_itm'] = [list(set(a).intersection(b)) for a, b in zip(metrics_df.item_id_idx, metrics_df.top_rlvnt_itm)]\n",
        "\n",
        "    # Compute recall, precision, and hit list metrics\n",
        "    metrics_df['recall'] = metrics_df.apply(lambda x : len(x['intrsctn_itm'])/len(x['item_id_idx']), axis = 1)\n",
        "    metrics_df['precision'] = metrics_df.apply(lambda x : len(x['intrsctn_itm'])/K, axis = 1)\n",
        "\n",
        "    # Check if each recommended item is in the interacted item list\n",
        "    def get_hit_list(item_id_idx, top_rlvnt_itm):\n",
        "        return [1 if x in set(item_id_idx) else 0 for x in top_rlvnt_itm ]\n",
        "    metrics_df['hit_list'] = metrics_df.apply(lambda x : get_hit_list(x['item_id_idx'], x['top_rlvnt_itm']), axis = 1)\n",
        "\n",
        "    # Calculate the ideal DCG (IDCG) based on the number of interacted items and the hit list\n",
        "    def get_dcg_idcg(item_id_idx, hit_list):\n",
        "        idcg  = sum([1 / np.log1p(idx+1) for idx in range(min(len(item_id_idx),len(hit_list)))])\n",
        "        dcg =  sum([hit / np.log1p(idx+1) for idx, hit in enumerate(hit_list)])\n",
        "        return dcg/idcg\n",
        "    metrics_df['ndcg'] = metrics_df.apply(lambda x : get_dcg_idcg(x['item_id_idx'], x['hit_list']), axis = 1)\n",
        "\n",
        "    # Calculate the cumulative sum of hits in the hit list\n",
        "    def get_cumsum(hit_list):\n",
        "        return np.cumsum(hit_list)\n",
        "    metrics_df['hit_list_cumsum'] = metrics_df.apply(lambda x : get_cumsum(x['hit_list']), axis = 1)\n",
        "\n",
        "    # Calculate the mean average precision (MAP) for a user\n",
        "    def get_map(item_id_idx, hit_list, hit_list_cumsum):\n",
        "        return sum([hit_cumsum*hit/(idx+1) for idx, (hit, hit_cumsum) in enumerate(zip(hit_list, hit_list_cumsum))])/len(item_id_idx)\n",
        "    metrics_df['map'] = metrics_df.apply(lambda x : get_map(x['item_id_idx'], x['hit_list'], x['hit_list_cumsum']), axis = 1)\n",
        "\n",
        "    return metrics_df['recall'].mean(), metrics_df['precision'].mean(), metrics_df['ndcg'].mean(), metrics_df['map'].mean()"
      ],
      "metadata": {
        "id": "VffWD2hTwGw6"
      },
      "execution_count": 12,
      "outputs": []
    },
    {
      "cell_type": "markdown",
      "source": [
        "## Graph and model construction"
      ],
      "metadata": {
        "id": "5taV2wxRnUep"
      }
    },
    {
      "cell_type": "code",
      "source": [
        "# defines the LightGCN class as a subclass of torch.nn.Module, which is the base class for all neural networks in PyTorch.\n",
        "class LightGCN(nn.Module):\n",
        "    def __init__(self, data, n_users, n_items, n_layers, latent_dim):\n",
        "        super(LightGCN, self).__init__()\n",
        "        self.data = data\n",
        "        self.n_users = n_users\n",
        "        self.n_items = n_items\n",
        "        self.n_layers = n_layers\n",
        "        self.latent_dim = latent_dim\n",
        "        self.init_embedding()\n",
        "        # Constructs the normalized adjacency matrix for the user-item graph in sparse tensor form.\n",
        "        self.norm_adj_mat_sparse_tensor = self.get_A_tilda()\n",
        "\n",
        "    def init_embedding(self):\n",
        "        # Creates an embedding matrix E0 for both users and items, where each has a latent_dim dimensional embedding.\n",
        "        self.E0 = nn.Embedding(self.n_users + self.n_items, self.latent_dim)\n",
        "        # Initializes the embedding weights using Xavier uniform initialization\n",
        "        # which helps stabilize the model by keeping the scale of gradients roughly the same in all layers\n",
        "        nn.init.xavier_uniform_(self.E0.weight)\n",
        "        # Converts the embedding weights to a Parameter, which ensures they are learnable by the model during training.\n",
        "        self.E0.weight = nn.Parameter(self.E0.weight)\n",
        "\n",
        "    # get_A_tilda() creates and normalizes (as shown in equations E1 and E2) an adjacency matrix for the bipartite graph and return its sparse tensor\n",
        "    # The bipartite graph matrix includes both users and items, with dimensions (n_users + n_items, n_users + n_items).\n",
        "    def get_A_tilda(self):\n",
        "        # Initializes a sparse dictionary-of-keys (DOK) matrix R to represent the user-item interaction matrix.\n",
        "        R = sp.dok_matrix((self.n_users, self.n_items), dtype = np.float32)\n",
        "        # Populates the matrix R with 1.0 at positions where interactions between users and items exist (i.e., where the user-item pair occurs).\n",
        "        R[self.data['user_id_idx'], self.data['item_id_idx']] = 1.0\n",
        "\n",
        "        # Creates an adjacency matrix for the bipartite graph, which includes both users and items.\n",
        "        adj_mat = sp.dok_matrix(\n",
        "                (self.n_users + self.n_items, self.n_users + self.n_items), dtype=np.float32\n",
        "            )\n",
        "        adj_mat = adj_mat.tolil()\n",
        "        R = R.tolil()\n",
        "        # Set the user-to-item connections (upper right part of the adjacency matrix).\n",
        "        adj_mat[: n_users, n_users :] = R\n",
        "        # Set the item-to-user connections (lower left part, the transpose of R).\n",
        "        adj_mat[n_users :, : n_users] = R.T\n",
        "        adj_mat = adj_mat.todok()\n",
        "\n",
        "        # Normalizes the adjacency matrix using the inverse degree matrix.\n",
        "        # The follow steps implement the normalization components in equations E1 and E2 above.\n",
        "        rowsum = np.array(adj_mat.sum(1))\n",
        "        d_inv = np.power(rowsum + 1e-9, -0.5).flatten()\n",
        "        d_inv[np.isinf(d_inv)] = 0.0\n",
        "        d_mat_inv = sp.diags(d_inv)\n",
        "        # normalizes the rows of the adjacency matrix\n",
        "        norm_adj_mat = d_mat_inv.dot(adj_mat)\n",
        "        # normalizes the columns of adjacency matrix\n",
        "        norm_adj_mat = norm_adj_mat.dot(d_mat_inv)\n",
        "\n",
        "        # Convert the dok_matrix to sparse tensor.\n",
        "\n",
        "        norm_adj_mat_coo = norm_adj_mat.tocoo().astype(np.float32)\n",
        "        values = norm_adj_mat_coo.data\n",
        "        indices = np.vstack((norm_adj_mat_coo.row, norm_adj_mat_coo.col))\n",
        "\n",
        "        i = torch.LongTensor(indices)\n",
        "        v = torch.FloatTensor(values)\n",
        "        shape = norm_adj_mat_coo.shape\n",
        "\n",
        "        norm_adj_mat_sparse_tensor = torch.sparse.FloatTensor(i, v, torch.Size(shape))\n",
        "\n",
        "        return norm_adj_mat_sparse_tensor\n",
        "\n",
        "    # propagate user and item embeddings through the network for a specified number of layers\n",
        "    def propagate_through_layers(self):\n",
        "        all_layer_embedding = [self.E0.weight]\n",
        "        E_lyr = self.E0.weight\n",
        "\n",
        "        for layer in range(self.n_layers):\n",
        "            # This is to perform equations E1 and E2 such that,\n",
        "            # user embeddings will now reflect the items they interacted with.\n",
        "            # and item embeddings will reflect the users who interacted with them.\n",
        "            E_lyr = torch.sparse.mm(self.norm_adj_mat_sparse_tensor, E_lyr)\n",
        "            all_layer_embedding.append(E_lyr)\n",
        "\n",
        "        all_layer_embedding = torch.stack(all_layer_embedding)\n",
        "        mean_layer_embedding = torch.mean(all_layer_embedding, axis = 0)\n",
        "\n",
        "        final_user_Embed, final_item_Embed = torch.split(mean_layer_embedding, [n_users, n_items])\n",
        "        initial_user_Embed, initial_item_Embed = torch.split(self.E0.weight, [n_users, n_items])\n",
        "\n",
        "        return final_user_Embed, final_item_Embed, initial_user_Embed, initial_item_Embed\n",
        "\n",
        "    # define the forward pass of the model, compute the final embeddings for given users and items\n",
        "    def forward(self, users, pos_items, neg_items):\n",
        "        final_user_Embed, final_item_Embed, initial_user_Embed, initial_item_Embed = self.propagate_through_layers()\n",
        "\n",
        "        users_emb, pos_emb, neg_emb = final_user_Embed[users], final_item_Embed[pos_items], final_item_Embed[neg_items]\n",
        "        userEmb0,  posEmb0, negEmb0 = initial_user_Embed[users], initial_item_Embed[pos_items], initial_item_Embed[neg_items]\n",
        "\n",
        "        return users_emb, pos_emb, neg_emb, userEmb0,  posEmb0, negEmb0"
      ],
      "metadata": {
        "id": "EILFchnuxDhl"
      },
      "execution_count": 13,
      "outputs": []
    },
    {
      "cell_type": "code",
      "source": [
        "lightGCN = LightGCN(train, n_users, n_items, n_layers, latent_dim)\n",
        "print(\"Size of Learnable Embedding : \", list(lightGCN.parameters())[0].size())"
      ],
      "metadata": {
        "colab": {
          "base_uri": "https://localhost:8080/"
        },
        "id": "ZeY3DI8FxNJ0",
        "outputId": "92f77682-a12e-41be-a11c-96a1a2bdf3f6"
      },
      "execution_count": 14,
      "outputs": [
        {
          "output_type": "stream",
          "name": "stdout",
          "text": [
            "Size of Learnable Embedding :  torch.Size([5101, 64])\n"
          ]
        },
        {
          "output_type": "stream",
          "name": "stderr",
          "text": [
            "<ipython-input-13-a2f97fda442d>:64: UserWarning: torch.sparse.SparseTensor(indices, values, shape, *, device=) is deprecated.  Please use torch.sparse_coo_tensor(indices, values, shape, dtype=, device=). (Triggered internally at ../torch/csrc/utils/tensor_new.cpp:651.)\n",
            "  norm_adj_mat_sparse_tensor = torch.sparse.FloatTensor(i, v, torch.Size(shape))\n"
          ]
        }
      ]
    },
    {
      "cell_type": "markdown",
      "source": [
        "## Model Training and Eval"
      ],
      "metadata": {
        "id": "yJOelJXFnOQs"
      }
    },
    {
      "cell_type": "code",
      "source": [
        "def bpr_loss(users, users_emb, pos_emb, neg_emb, userEmb0,  posEmb0, negEmb0):\n",
        "    # Compute regularization loss\n",
        "    reg_loss = (1/2)*(userEmb0.norm().pow(2) +\n",
        "                    posEmb0.norm().pow(2)  +\n",
        "                    negEmb0.norm().pow(2))/float(len(users))\n",
        "\n",
        "    # Compute scores for positive and negative items\n",
        "    pos_scores = torch.mul(users_emb, pos_emb)\n",
        "    pos_scores = torch.sum(pos_scores, dim=1)\n",
        "    neg_scores = torch.mul(users_emb, neg_emb)\n",
        "    neg_scores = torch.sum(neg_scores, dim=1)\n",
        "\n",
        "    # Compute BPR loss using softplus function\n",
        "    loss = torch.mean(torch.nn.functional.softplus(neg_scores - pos_scores))\n",
        "    return loss, reg_loss"
      ],
      "metadata": {
        "id": "csuEg09Cx5wE"
      },
      "execution_count": 15,
      "outputs": []
    },
    {
      "cell_type": "code",
      "source": [
        "def data_loader(data, batch_size, n_usr, n_itm):\n",
        "    # Group interactions by user ID and sample negative items\n",
        "    interected_items_df = data.groupby('user_id_idx')['item_id_idx'].apply(list).reset_index()\n",
        "\n",
        "    def sample_neg(x):\n",
        "        while True:\n",
        "            neg_id = random.randint(0, n_itm - 1)\n",
        "            if neg_id not in x:\n",
        "                return neg_id\n",
        "\n",
        "    indices = [x for x in range(n_usr)]\n",
        "\n",
        "    # Randomly select users for batch training\n",
        "    # If the total number of users (n_usr) is smaller than the batch size, random users are chosen with replacement (random.choice).\n",
        "    # Otherwise, users are chosen without replacement (random.sample).\n",
        "\n",
        "    if n_usr < batch_size:\n",
        "        users = [random.choice(indices) for _ in range(batch_size)]\n",
        "    else:\n",
        "        users = random.sample(indices, batch_size)\n",
        "\n",
        "    users.sort()\n",
        "\n",
        "    users_df = pd.DataFrame(users,columns = ['users'])\n",
        "\n",
        "    # a right join between the interaction data (interected_items_df) and the selected users (users_df), ensuring only the selected users are retained.\n",
        "    interected_items_df = pd.merge(interected_items_df, users_df, how = 'right', left_on = 'user_id_idx', right_on = 'users')\n",
        "\n",
        "    # Select positive and negative items for each user\n",
        "    pos_items = interected_items_df['item_id_idx'].apply(lambda x : random.choice(x)).values\n",
        "    neg_items = interected_items_df['item_id_idx'].apply(lambda x: sample_neg(x)).values\n",
        "\n",
        "    return list(users), list(pos_items), list(neg_items)"
      ],
      "metadata": {
        "id": "0DS9mhlBx7BU"
      },
      "execution_count": 16,
      "outputs": []
    },
    {
      "cell_type": "code",
      "source": [
        "optimizer = torch.optim.Adam(lightGCN.parameters(), lr = 0.005)\n",
        "EPOCHS = 30\n",
        "BATCH_SIZE = 1024\n",
        "DECAY = 0.0001\n",
        "K = 10"
      ],
      "metadata": {
        "id": "H7SHOlLHx8fP"
      },
      "execution_count": 17,
      "outputs": []
    },
    {
      "cell_type": "code",
      "source": [
        "loss_list_epoch = []\n",
        "MF_loss_list_epoch = []\n",
        "reg_loss_list_epoch = []\n",
        "\n",
        "recall_list = []\n",
        "precision_list = []\n",
        "ndcg_list = []\n",
        "map_list = []\n",
        "\n",
        "train_time_list = []\n",
        "eval_time_list = []\n",
        "\n",
        "for epoch in tqdm(range(EPOCHS)):\n",
        "    # Calculate the number of batches per epoch\n",
        "    n_batch = int(len(train)/BATCH_SIZE)\n",
        "\n",
        "    # Initialization\n",
        "    final_loss_list = []\n",
        "    MF_loss_list = []\n",
        "    reg_loss_list = []\n",
        "    best_ndcg = -1\n",
        "    train_start_time = time.time()\n",
        "\n",
        "    # Set the model in training mode\n",
        "    lightGCN.train()\n",
        "\n",
        "    # Iterate over each batch in the training dataset\n",
        "    for batch_idx in range(n_batch):\n",
        "        # Reset gradients\n",
        "        optimizer.zero_grad()\n",
        "        # Load data for the current batch\n",
        "        users, pos_items, neg_items = data_loader(train, BATCH_SIZE, n_users, n_items)\n",
        "        # Perform forward pass through the model\n",
        "        users_emb, pos_emb, neg_emb, userEmb0,  posEmb0, negEmb0 = lightGCN.forward(users, pos_items, neg_items)\n",
        "        # Compute BPR loss and regularization loss\n",
        "        mf_loss, reg_loss = bpr_loss(users, users_emb, pos_emb, neg_emb, userEmb0,  posEmb0, negEmb0)\n",
        "        reg_loss = DECAY * reg_loss  # Apply weight decay\n",
        "        # Combine losses to get the final loss\n",
        "        final_loss = mf_loss + reg_loss\n",
        "        # Perform backward pass and update model parameters\n",
        "        final_loss.backward()\n",
        "        optimizer.step()\n",
        "        # Record losses for monitoring\n",
        "        final_loss_list.append(final_loss.item())\n",
        "        MF_loss_list.append(mf_loss.item())\n",
        "        reg_loss_list.append(reg_loss.item())\n",
        "\n",
        "\n",
        "    train_end_time = time.time()\n",
        "    train_time = train_end_time - train_start_time\n",
        "\n",
        "    # model evaluation\n",
        "    lightGCN.eval()\n",
        "    with torch.no_grad():\n",
        "        final_user_Embed, final_item_Embed, initial_user_Embed,initial_item_Embed = lightGCN.propagate_through_layers()\n",
        "        test_topK_recall,  test_topK_precision, test_topK_ndcg, test_topK_map  = get_metrics(final_user_Embed, final_item_Embed, n_users, n_items, train, test, K)\n",
        "\n",
        "\n",
        "    eval_time = time.time() - train_end_time\n",
        "\n",
        "    # calculate and append the mean values of various loss and evaluation metrics for each epoch to their respective lists.\n",
        "    loss_list_epoch.append(round(np.mean(final_loss_list),4))\n",
        "    MF_loss_list_epoch.append(round(np.mean(MF_loss_list),4))\n",
        "    reg_loss_list_epoch.append(round(np.mean(reg_loss_list),4))\n",
        "\n",
        "    recall_list.append(round(test_topK_recall,4))\n",
        "    precision_list.append(round(test_topK_precision,4))\n",
        "    ndcg_list.append(round(test_topK_ndcg,4))\n",
        "    map_list.append(round(test_topK_map,4))\n",
        "\n",
        "    train_time_list.append(train_time)\n",
        "    eval_time_list.append(eval_time)"
      ],
      "metadata": {
        "colab": {
          "base_uri": "https://localhost:8080/"
        },
        "id": "wNzVUkXxx99S",
        "outputId": "060b0aa9-b35a-492c-ad4f-44cca54328bf"
      },
      "execution_count": 18,
      "outputs": [
        {
          "output_type": "stream",
          "name": "stderr",
          "text": [
            "100%|██████████| 30/30 [09:39<00:00, 19.31s/it]\n"
          ]
        }
      ]
    },
    {
      "cell_type": "code",
      "source": [
        "epoch_list = [(i+1) for i in range(EPOCHS)]\n",
        "plt.plot(epoch_list, recall_list, label='Recall')\n",
        "plt.plot(epoch_list, precision_list, label='Precision')\n",
        "plt.plot(epoch_list, ndcg_list, label='NDCG')\n",
        "plt.plot(epoch_list, map_list, label='MAP')\n",
        "plt.xlabel('Epoch')\n",
        "plt.ylabel('Metrics')\n",
        "plt.legend()"
      ],
      "metadata": {
        "id": "CPqrLmZmx_UC",
        "colab": {
          "base_uri": "https://localhost:8080/",
          "height": 466
        },
        "outputId": "277ccc27-2544-43e2-a074-3507ffb16065"
      },
      "execution_count": 25,
      "outputs": [
        {
          "output_type": "execute_result",
          "data": {
            "text/plain": [
              "<matplotlib.legend.Legend at 0x7e5d2c445cc0>"
            ]
          },
          "metadata": {},
          "execution_count": 25
        },
        {
          "output_type": "display_data",
          "data": {
            "text/plain": [
              "<Figure size 640x480 with 1 Axes>"
            ],
            "image/png": "[encoded data removed]"
          },
          "metadata": {}
        }
      ]
    },
    {
      "cell_type": "code",
      "source": [
        "plt.plot(epoch_list, loss_list_epoch, label='Total Training Loss')\n",
        "plt.plot(epoch_list, MF_loss_list_epoch, label='MF Training Loss')\n",
        "plt.plot(epoch_list, reg_loss_list_epoch, label='Reg Training Loss')\n",
        "\n",
        "plt.xlabel('Epoch')\n",
        "plt.ylabel('Loss')\n",
        "plt.legend()"
      ],
      "metadata": {
        "id": "7INJ3oU-yBEn",
        "colab": {
          "base_uri": "https://localhost:8080/",
          "height": 466
        },
        "outputId": "5e13b300-f966-479a-a05a-4ef53687db09"
      },
      "execution_count": 26,
      "outputs": [
        {
          "output_type": "execute_result",
          "data": {
            "text/plain": [
              "<matplotlib.legend.Legend at 0x7e5d2c445fc0>"
            ]
          },
          "metadata": {},
          "execution_count": 26
        },
        {
          "output_type": "display_data",
          "data": {
            "text/plain": [
              "<Figure size 640x480 with 1 Axes>"
            ],
            "image/png": "[encoded data removed]"
          },
          "metadata": {}
        }
      ]
    },
    {
      "cell_type": "code",
      "source": [
        "print(\"Last Epoch's Test Data Recall -> \", recall_list[-1])\n",
        "print(\"Last Epoch's Test Data Precision -> \", precision_list[-1])\n",
        "print(\"Last Epoch's Test Data NDCG -> \", ndcg_list[-1])\n",
        "print(\"Last Epoch's Test Data MAP -> \", map_list[-1])\n",
        "print(\"Last Epoch's Train Data Loss -> \", loss_list_epoch[-1])"
      ],
      "metadata": {
        "id": "dnds5No_ni94",
        "colab": {
          "base_uri": "https://localhost:8080/"
        },
        "outputId": "7ecc4784-fa9b-4147-ef47-c776ade001ca"
      },
      "execution_count": 27,
      "outputs": [
        {
          "output_type": "stream",
          "name": "stdout",
          "text": [
            "Last Epoch's Test Data Recall ->  0.2243\n",
            "Last Epoch's Test Data Precision ->  0.1227\n",
            "Last Epoch's Test Data NDCG ->  0.1983\n",
            "Last Epoch's Test Data MAP ->  0.1021\n",
            "Last Epoch's Train Data Loss ->  0.1547\n"
          ]
        }
      ]
    }
  ],
  "metadata": {
    "accelerator": "GPU",
    "colab": {
      "provenance": []
    },
    "kernelspec": {
      "display_name": "Python 3",
      "name": "python3"
    }
  },
  "nbformat": 4,
  "nbformat_minor": 0
}